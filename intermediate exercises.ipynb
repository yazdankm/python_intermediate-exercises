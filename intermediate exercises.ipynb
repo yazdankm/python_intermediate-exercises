{
 "cells": [
  {
   "cell_type": "code",
   "execution_count": 1,
   "metadata": {},
   "outputs": [
    {
     "data": {
      "text/plain": [
       "[23, 27, 17, 12, 15, 16, 28, 26, 43, 14]"
      ]
     },
     "execution_count": 1,
     "metadata": {},
     "output_type": "execute_result"
    }
   ],
   "source": [
    "# Q1 return ages from a birth year list \n",
    "\n",
    "Sample_input = [1999, 1995, 2005, 2010, 2007, 2006, 1994, 1996, 1979, 2008]\n",
    "#Sample output: [20, 24, 14, 9, 12, 13, 25, 23, 40, 11]\n",
    "\n",
    "def return_ages (list_birth_year): \n",
    "    list_ages = []\n",
    "    for age in list_birth_year :\n",
    "        age = 2022 - age \n",
    "        list_ages.append(age)\n",
    "    return list_ages\n",
    "\n",
    "return_ages(Sample_input)"
   ]
  },
  {
   "cell_type": "code",
   "execution_count": 4,
   "metadata": {},
   "outputs": [
    {
     "data": {
      "text/plain": [
       "[20, 24, 14, 12, 13, 25, 23, 11]"
      ]
     },
     "execution_count": 4,
     "metadata": {},
     "output_type": "execute_result"
    }
   ],
   "source": [
    "# Q2 remove the youngest and oldest age from the list function \n",
    "Sample_input = [20, 24, 14, 9, 12, 13, 25, 23, 40, 11]\n",
    "#Sample output: [20, 24, 14, 12, 13, 25, 23, 11]\n",
    "\n",
    "\n",
    "def remove_outliers (list_ages): \n",
    "    list_ages.remove(min(list_ages))\n",
    "    list_ages.remove(max(list_ages))\n",
    "    return list_ages\n",
    "\n",
    "remove_outliers(Sample_input)\n"
   ]
  },
  {
   "cell_type": "code",
   "execution_count": 6,
   "metadata": {},
   "outputs": [
    {
     "data": {
      "text/plain": [
       "[15, 13, 16, 18, 19, 10]"
      ]
     },
     "execution_count": 6,
     "metadata": {},
     "output_type": "execute_result"
    }
   ],
   "source": [
    "# Q3 The task is to write a function that takes these 2 lists as input and returns the common age values.\n",
    "\n",
    "Sample_input_1 = [15, 13, 16, 18, 19, 10, 12 ]\n",
    "Sample_input_2 = [7, 13, 15, 20, 19, 18, 10, 16]\n",
    "#Sample output: [15,13,16,18,19,10]\n",
    "\n",
    "def return_common_ages (list_ages_1 , list_ages_2):\n",
    "    common_ages = []\n",
    "    for i in list_ages_1:\n",
    "        for j in list_ages_2:\n",
    "            if i == j :\n",
    "                common_ages.append(i)\n",
    "            else : \n",
    "                pass\n",
    "    return common_ages\n",
    "\n",
    "return_common_ages(Sample_input_1, Sample_input_2)\n",
    "\n"
   ]
  },
  {
   "cell_type": "code",
   "execution_count": 11,
   "metadata": {},
   "outputs": [
    {
     "data": {
      "text/plain": [
       "[10, 13, 15, 16, 18, 19]"
      ]
     },
     "execution_count": 11,
     "metadata": {},
     "output_type": "execute_result"
    }
   ],
   "source": [
    "# Q4 The task is to write a function that takes the list with duplicate values as input and return the list with unique age values.\n",
    "#Sample input: [15,13,16,18,19,15,10]\n",
    "#Sample output: [15,13,16,18,19,10]\n",
    "\n",
    "def return_unique_ages (list_ages):\n",
    "    list_unique_ages = []\n",
    "    set_ages = set(list_ages)\n",
    "    for i in set_ages:\n",
    "        list_unique_ages.append(i)\n",
    "\n",
    "    return list_unique_ages\n",
    "\n",
    "return_unique_ages([15,13,16,18,19,15,10])\n"
   ]
  },
  {
   "cell_type": "code",
   "execution_count": 13,
   "metadata": {},
   "outputs": [
    {
     "data": {
      "text/plain": [
       "False"
      ]
     },
     "execution_count": 13,
     "metadata": {},
     "output_type": "execute_result"
    }
   ],
   "source": [
    "# Q5 The task is to write a function that takes an input list and value of age to find as input \n",
    "# and return true or false if the age value is present or not.\n",
    "#Sample input: [15,13,16,18,19,15,10], 15\n",
    "#Sample output: True\n",
    "#Sample input: [15,13,16,18,19,15,10], 28\n",
    "#Sample output: False\n",
    "\n",
    "def age_present(list_ages, age):\n",
    "    for i in list_ages:\n",
    "        if i == age : \n",
    "            return True\n",
    "        else:\n",
    "            pass \n",
    "    return False\n",
    "\n",
    "age_present([15,13,16,18,19,15,10], 28)\n"
   ]
  },
  {
   "cell_type": "code",
   "execution_count": null,
   "metadata": {},
   "outputs": [],
   "source": []
  }
 ],
 "metadata": {
  "kernelspec": {
   "display_name": "Python 3.10.8 (conda)",
   "language": "python",
   "name": "python3"
  },
  "language_info": {
   "codemirror_mode": {
    "name": "ipython",
    "version": 3
   },
   "file_extension": ".py",
   "mimetype": "text/x-python",
   "name": "python",
   "nbconvert_exporter": "python",
   "pygments_lexer": "ipython3",
   "version": "3.10.8"
  },
  "orig_nbformat": 4,
  "vscode": {
   "interpreter": {
    "hash": "0048ec6b289d94a919f1e3500f11f9edd24f3d1841e33cb9640c9186da8014b3"
   }
  }
 },
 "nbformat": 4,
 "nbformat_minor": 2
}
